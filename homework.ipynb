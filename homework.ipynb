{
 "cells": [
  {
   "cell_type": "markdown",
   "metadata": {},
   "source": [
    "# Hard Drive Stats  in Backblaze’s data centers\n",
    "\n",
    "https://www.backblaze.com/b2/hard-drive-test-data.html"
   ]
  },
  {
   "cell_type": "markdown",
   "metadata": {},
   "source": [
    "Посмотрим на статистику смартов за 2018-05-09."
   ]
  },
  {
   "cell_type": "code",
   "execution_count": 1,
   "metadata": {},
   "outputs": [],
   "source": [
    "import pandas as pd\n",
    "import numpy as np\n",
    "import matplotlib.pyplot as plt\n",
    "import seaborn as sns; sns.set()\n",
    "\n",
    "raw_stat = pd.read_csv('./data/2018-05-09.csv.zip')"
   ]
  },
  {
   "cell_type": "code",
   "execution_count": 2,
   "metadata": {},
   "outputs": [
    {
     "name": "stdout",
     "output_type": "stream",
     "text": [
      "(99836, 109)\n"
     ]
    }
   ],
   "source": [
    "print (raw_stat.shape)"
   ]
  },
  {
   "cell_type": "markdown",
   "metadata": {},
   "source": [
    "The columns are as follows:\n",
    "\n",
    "- **Date** – The date of the file in yyyy-mm-dd format.\n",
    "- **Serial Number** – The manufacturer-assigned serial number of the drive.\n",
    "- **Model** – The manufacturer-assigned model number of the drive.\n",
    "- **Capacity** – The drive capacity in bytes.\n",
    "- **Failure** – Contains a “0” if the drive is OK. Contains a “1” if this is the last day the drive was operational before failing.\n",
    "- **SMART Stats** – 104 columns of data, that are the Raw and Normalized values for 52 different SMART stats as reported by the given drive. Each value is the number reported by the drive.\n",
    "\n",
    "https://www.backblaze.com/b2/hard-drive-test-data.html"
   ]
  },
  {
   "cell_type": "markdown",
   "metadata": {},
   "source": [
    "**The following five SMART stats as a means of helping determine if a drive is going to fail.**\n",
    "\n",
    "Attribute \t\tDescription\n",
    "\n",
    "- SMART 5 \t\tReallocated Sectors Count\n",
    "- SMART 187 \t\tReported Uncorrectable Errors\n",
    "- SMART 188 \t\tCommand Timeout\n",
    "- SMART 197 \t\tCurrent Pending Sector Count\n",
    "- SMART 198 \t\tUncorrectable Sector Count\n",
    "\n",
    "When the RAW value for one of these five attributes is greater than zero, we have a reason to investigate\n",
    "\n",
    "https://www.backblaze.com/blog/hard-drive-smart-stats/"
   ]
  },
  {
   "cell_type": "markdown",
   "metadata": {},
   "source": [
    "Исходя из вышесказанного, выберем только эти 5-ть значимых аттрибутов из всех имеющихся."
   ]
  },
  {
   "cell_type": "code",
   "execution_count": 3,
   "metadata": {},
   "outputs": [
    {
     "data": {
      "text/html": [
       "<div>\n",
       "<style scoped>\n",
       "    .dataframe tbody tr th:only-of-type {\n",
       "        vertical-align: middle;\n",
       "    }\n",
       "\n",
       "    .dataframe tbody tr th {\n",
       "        vertical-align: top;\n",
       "    }\n",
       "\n",
       "    .dataframe thead th {\n",
       "        text-align: right;\n",
       "    }\n",
       "</style>\n",
       "<table border=\"1\" class=\"dataframe\">\n",
       "  <thead>\n",
       "    <tr style=\"text-align: right;\">\n",
       "      <th></th>\n",
       "      <th>model</th>\n",
       "      <th>serial_number</th>\n",
       "      <th>capacity_bytes</th>\n",
       "      <th>failure</th>\n",
       "      <th>SMART_5</th>\n",
       "      <th>SMART_187</th>\n",
       "      <th>SMART_188</th>\n",
       "      <th>SMART_197</th>\n",
       "      <th>SMART_198</th>\n",
       "    </tr>\n",
       "  </thead>\n",
       "  <tbody>\n",
       "    <tr>\n",
       "      <th>0</th>\n",
       "      <td>ST4000DM000</td>\n",
       "      <td>Z305B2QN</td>\n",
       "      <td>4000787030016</td>\n",
       "      <td>0</td>\n",
       "      <td>0</td>\n",
       "      <td>0.0</td>\n",
       "      <td>0.0</td>\n",
       "      <td>0</td>\n",
       "      <td>0</td>\n",
       "    </tr>\n",
       "    <tr>\n",
       "      <th>1</th>\n",
       "      <td>HGST HMS5C4040ALE640</td>\n",
       "      <td>PL1331LAHG1S4H</td>\n",
       "      <td>4000787030016</td>\n",
       "      <td>0</td>\n",
       "      <td>0</td>\n",
       "      <td>0.0</td>\n",
       "      <td>0.0</td>\n",
       "      <td>0</td>\n",
       "      <td>0</td>\n",
       "    </tr>\n",
       "    <tr>\n",
       "      <th>2</th>\n",
       "      <td>ST8000NM0055</td>\n",
       "      <td>ZA16NQJR</td>\n",
       "      <td>8001563222016</td>\n",
       "      <td>0</td>\n",
       "      <td>0</td>\n",
       "      <td>0.0</td>\n",
       "      <td>0.0</td>\n",
       "      <td>0</td>\n",
       "      <td>0</td>\n",
       "    </tr>\n",
       "    <tr>\n",
       "      <th>3</th>\n",
       "      <td>ST8000NM0055</td>\n",
       "      <td>ZA18CEBT</td>\n",
       "      <td>8001563222016</td>\n",
       "      <td>0</td>\n",
       "      <td>0</td>\n",
       "      <td>0.0</td>\n",
       "      <td>0.0</td>\n",
       "      <td>0</td>\n",
       "      <td>0</td>\n",
       "    </tr>\n",
       "    <tr>\n",
       "      <th>4</th>\n",
       "      <td>ST8000NM0055</td>\n",
       "      <td>ZA18CEBS</td>\n",
       "      <td>8001563222016</td>\n",
       "      <td>0</td>\n",
       "      <td>0</td>\n",
       "      <td>0.0</td>\n",
       "      <td>0.0</td>\n",
       "      <td>0</td>\n",
       "      <td>0</td>\n",
       "    </tr>\n",
       "  </tbody>\n",
       "</table>\n",
       "</div>"
      ],
      "text/plain": [
       "                  model   serial_number  capacity_bytes  failure  SMART_5  \\\n",
       "0           ST4000DM000        Z305B2QN   4000787030016        0        0   \n",
       "1  HGST HMS5C4040ALE640  PL1331LAHG1S4H   4000787030016        0        0   \n",
       "2          ST8000NM0055        ZA16NQJR   8001563222016        0        0   \n",
       "3          ST8000NM0055        ZA18CEBT   8001563222016        0        0   \n",
       "4          ST8000NM0055        ZA18CEBS   8001563222016        0        0   \n",
       "\n",
       "   SMART_187  SMART_188  SMART_197  SMART_198  \n",
       "0        0.0        0.0          0          0  \n",
       "1        0.0        0.0          0          0  \n",
       "2        0.0        0.0          0          0  \n",
       "3        0.0        0.0          0          0  \n",
       "4        0.0        0.0          0          0  "
      ]
     },
     "execution_count": 3,
     "metadata": {},
     "output_type": "execute_result"
    }
   ],
   "source": [
    "base_stat = raw_stat.loc[:, ['model', 'serial_number', 'capacity_bytes', 'failure',\n",
    "                             'smart_5_raw', 'smart_187_raw',\n",
    "                             'smart_188_raw', 'smart_197_raw',\n",
    "                             'smart_198_raw']]\n",
    "\n",
    "base_stat.rename(columns={'smart_5_raw': 'SMART_5',\n",
    "                          'smart_187_raw': 'SMART_187',\n",
    "                          'smart_188_raw': 'SMART_188',\n",
    "                          'smart_197_raw': 'SMART_197',\n",
    "                          'smart_198_raw': 'SMART_198'}, inplace=True)\n",
    "base_stat.fillna(0, inplace=True)\n",
    "base_stat.head()"
   ]
  },
  {
   "cell_type": "markdown",
   "metadata": {},
   "source": [
    "Посмотрим на зависимости количества дисков от определенного, отличного от нуля, смарт аттрибута. "
   ]
  },
  {
   "cell_type": "code",
   "execution_count": 4,
   "metadata": {},
   "outputs": [
    {
     "data": {
      "text/plain": [
       "<matplotlib.legend.Legend at 0x7fca6964e3c8>"
      ]
     },
     "execution_count": 4,
     "metadata": {},
     "output_type": "execute_result"
    },
    {
     "data": {
      "image/png": "[encoded data removed]",
      "text/plain": [
       "<Figure size 1080x576 with 1 Axes>"
      ]
     },
     "metadata": {
      "needs_background": "light"
     },
     "output_type": "display_data"
    }
   ],
   "source": [
    "smart_value = np.arange(0, 41)\n",
    "\n",
    "smart_5   = [len(base_stat.loc[base_stat.SMART_5   > v, :]) for v in smart_value]\n",
    "smart_187 = [len(base_stat.loc[base_stat.SMART_187 > v, :]) for v in smart_value]\n",
    "smart_188 = [len(base_stat.loc[base_stat.SMART_188 > v, :]) for v in smart_value]\n",
    "smart_197 = [len(base_stat.loc[base_stat.SMART_197 > v, :]) for v in smart_value]\n",
    "smart_198 = [len(base_stat.loc[base_stat.SMART_198 > v, :]) for v in smart_value]\n",
    "\n",
    "plt.figure(figsize=(15, 8))\n",
    "plt.xlabel('Raw smart value', fontsize=16)\n",
    "plt.ylabel('Number of hard drives', fontsize=16)\n",
    "plt.plot(smart_5,   '#000000',\n",
    "         smart_187, '#0000ff',\n",
    "         smart_188, '#00ff00',\n",
    "         smart_197, '#ff0000',\n",
    "         smart_198, '#777777')\n",
    "plt.legend(['SMART 5 Reallocated Sectors Count',\n",
    "            'SMART 187 Reported Uncorrectable Errors',\n",
    "            'SMART 188 Command Timeout',\n",
    "            'SMART 197 Current Pending Sector Count',\n",
    "            'SMART 198 Uncorrectable Sector Count'], fontsize=16)"
   ]
  },
  {
   "cell_type": "markdown",
   "metadata": {},
   "source": [
    "По форме графиков можно предположить, что аттрибуты: 5, 197, 198 (черный, красный и серый цвет соответственно) - взаимозависимы; 197 и 198 практически идентичны. Поэтому исключим аттрибут 198 из дальнейших исследований."
   ]
  },
  {
   "cell_type": "code",
   "execution_count": 5,
   "metadata": {},
   "outputs": [
    {
     "data": {
      "text/html": [
       "<div>\n",
       "<style scoped>\n",
       "    .dataframe tbody tr th:only-of-type {\n",
       "        vertical-align: middle;\n",
       "    }\n",
       "\n",
       "    .dataframe tbody tr th {\n",
       "        vertical-align: top;\n",
       "    }\n",
       "\n",
       "    .dataframe thead th {\n",
       "        text-align: right;\n",
       "    }\n",
       "</style>\n",
       "<table border=\"1\" class=\"dataframe\">\n",
       "  <thead>\n",
       "    <tr style=\"text-align: right;\">\n",
       "      <th></th>\n",
       "      <th>model</th>\n",
       "      <th>serial_number</th>\n",
       "      <th>capacity_bytes</th>\n",
       "      <th>failure</th>\n",
       "      <th>SMART_5</th>\n",
       "      <th>SMART_187</th>\n",
       "      <th>SMART_188</th>\n",
       "      <th>SMART_197</th>\n",
       "    </tr>\n",
       "  </thead>\n",
       "  <tbody>\n",
       "    <tr>\n",
       "      <th>0</th>\n",
       "      <td>ST4000DM000</td>\n",
       "      <td>Z305B2QN</td>\n",
       "      <td>4000787030016</td>\n",
       "      <td>0</td>\n",
       "      <td>0</td>\n",
       "      <td>0.0</td>\n",
       "      <td>0.0</td>\n",
       "      <td>0</td>\n",
       "    </tr>\n",
       "    <tr>\n",
       "      <th>1</th>\n",
       "      <td>HGST HMS5C4040ALE640</td>\n",
       "      <td>PL1331LAHG1S4H</td>\n",
       "      <td>4000787030016</td>\n",
       "      <td>0</td>\n",
       "      <td>0</td>\n",
       "      <td>0.0</td>\n",
       "      <td>0.0</td>\n",
       "      <td>0</td>\n",
       "    </tr>\n",
       "    <tr>\n",
       "      <th>2</th>\n",
       "      <td>ST8000NM0055</td>\n",
       "      <td>ZA16NQJR</td>\n",
       "      <td>8001563222016</td>\n",
       "      <td>0</td>\n",
       "      <td>0</td>\n",
       "      <td>0.0</td>\n",
       "      <td>0.0</td>\n",
       "      <td>0</td>\n",
       "    </tr>\n",
       "    <tr>\n",
       "      <th>3</th>\n",
       "      <td>ST8000NM0055</td>\n",
       "      <td>ZA18CEBT</td>\n",
       "      <td>8001563222016</td>\n",
       "      <td>0</td>\n",
       "      <td>0</td>\n",
       "      <td>0.0</td>\n",
       "      <td>0.0</td>\n",
       "      <td>0</td>\n",
       "    </tr>\n",
       "    <tr>\n",
       "      <th>4</th>\n",
       "      <td>ST8000NM0055</td>\n",
       "      <td>ZA18CEBS</td>\n",
       "      <td>8001563222016</td>\n",
       "      <td>0</td>\n",
       "      <td>0</td>\n",
       "      <td>0.0</td>\n",
       "      <td>0.0</td>\n",
       "      <td>0</td>\n",
       "    </tr>\n",
       "  </tbody>\n",
       "</table>\n",
       "</div>"
      ],
      "text/plain": [
       "                  model   serial_number  capacity_bytes  failure  SMART_5  \\\n",
       "0           ST4000DM000        Z305B2QN   4000787030016        0        0   \n",
       "1  HGST HMS5C4040ALE640  PL1331LAHG1S4H   4000787030016        0        0   \n",
       "2          ST8000NM0055        ZA16NQJR   8001563222016        0        0   \n",
       "3          ST8000NM0055        ZA18CEBT   8001563222016        0        0   \n",
       "4          ST8000NM0055        ZA18CEBS   8001563222016        0        0   \n",
       "\n",
       "   SMART_187  SMART_188  SMART_197  \n",
       "0        0.0        0.0          0  \n",
       "1        0.0        0.0          0  \n",
       "2        0.0        0.0          0  \n",
       "3        0.0        0.0          0  \n",
       "4        0.0        0.0          0  "
      ]
     },
     "execution_count": 5,
     "metadata": {},
     "output_type": "execute_result"
    }
   ],
   "source": [
    "base_stat.drop(['SMART_198'], axis=1, inplace=True)\n",
    "base_stat.head()"
   ]
  },
  {
   "cell_type": "code",
   "execution_count": 6,
   "metadata": {},
   "outputs": [
    {
     "name": "stdout",
     "output_type": "stream",
     "text": [
      "(99836, 8)\n"
     ]
    }
   ],
   "source": [
    "print(base_stat.shape)"
   ]
  },
  {
   "cell_type": "markdown",
   "metadata": {},
   "source": [
    "Посмотрим на количество жестких дисков вышедших из строя в этот день и их процент от общего числа."
   ]
  },
  {
   "cell_type": "code",
   "execution_count": 7,
   "metadata": {},
   "outputs": [
    {
     "data": {
      "text/plain": [
       "(6, 0.006009856164109139)"
      ]
     },
     "execution_count": 7,
     "metadata": {},
     "output_type": "execute_result"
    }
   ],
   "source": [
    "failure_stat = base_stat.loc[base_stat.failure != 0, :]\n",
    "total_disks = len(base_stat)\n",
    "falure_disks = len(failure_stat)\n",
    "failure_disk_percent = falure_disks / total_disks * 100.0\n",
    "falure_disks, failure_disk_percent"
   ]
  },
  {
   "cell_type": "markdown",
   "metadata": {},
   "source": [
    "Посмотрим более конкретно, какие именно диски вышли из строя и статистику их смартов на этот день."
   ]
  },
  {
   "cell_type": "code",
   "execution_count": 8,
   "metadata": {},
   "outputs": [
    {
     "data": {
      "text/html": [
       "<div>\n",
       "<style scoped>\n",
       "    .dataframe tbody tr th:only-of-type {\n",
       "        vertical-align: middle;\n",
       "    }\n",
       "\n",
       "    .dataframe tbody tr th {\n",
       "        vertical-align: top;\n",
       "    }\n",
       "\n",
       "    .dataframe thead th {\n",
       "        text-align: right;\n",
       "    }\n",
       "</style>\n",
       "<table border=\"1\" class=\"dataframe\">\n",
       "  <thead>\n",
       "    <tr style=\"text-align: right;\">\n",
       "      <th></th>\n",
       "      <th>model</th>\n",
       "      <th>serial_number</th>\n",
       "      <th>capacity_bytes</th>\n",
       "      <th>failure</th>\n",
       "      <th>SMART_5</th>\n",
       "      <th>SMART_187</th>\n",
       "      <th>SMART_188</th>\n",
       "      <th>SMART_197</th>\n",
       "    </tr>\n",
       "  </thead>\n",
       "  <tbody>\n",
       "    <tr>\n",
       "      <th>0</th>\n",
       "      <td>ST4000DM000</td>\n",
       "      <td>Z3040LRE</td>\n",
       "      <td>4000787030016</td>\n",
       "      <td>1</td>\n",
       "      <td>0</td>\n",
       "      <td>2.0</td>\n",
       "      <td>0.000000e+00</td>\n",
       "      <td>224</td>\n",
       "    </tr>\n",
       "    <tr>\n",
       "      <th>1</th>\n",
       "      <td>ST12000NM0007</td>\n",
       "      <td>ZCH07AT8</td>\n",
       "      <td>12000138625024</td>\n",
       "      <td>1</td>\n",
       "      <td>32</td>\n",
       "      <td>0.0</td>\n",
       "      <td>1.718013e+10</td>\n",
       "      <td>0</td>\n",
       "    </tr>\n",
       "    <tr>\n",
       "      <th>2</th>\n",
       "      <td>ST12000NM0007</td>\n",
       "      <td>ZCH083DQ</td>\n",
       "      <td>12000138625024</td>\n",
       "      <td>1</td>\n",
       "      <td>28304</td>\n",
       "      <td>71.0</td>\n",
       "      <td>0.000000e+00</td>\n",
       "      <td>0</td>\n",
       "    </tr>\n",
       "    <tr>\n",
       "      <th>3</th>\n",
       "      <td>ST12000NM0007</td>\n",
       "      <td>ZJV00CZL</td>\n",
       "      <td>12000138625024</td>\n",
       "      <td>1</td>\n",
       "      <td>0</td>\n",
       "      <td>0.0</td>\n",
       "      <td>0.000000e+00</td>\n",
       "      <td>0</td>\n",
       "    </tr>\n",
       "    <tr>\n",
       "      <th>4</th>\n",
       "      <td>ST4000DM000</td>\n",
       "      <td>S301GQWN</td>\n",
       "      <td>4000787030016</td>\n",
       "      <td>1</td>\n",
       "      <td>8</td>\n",
       "      <td>11.0</td>\n",
       "      <td>0.000000e+00</td>\n",
       "      <td>24</td>\n",
       "    </tr>\n",
       "    <tr>\n",
       "      <th>5</th>\n",
       "      <td>ST4000DM000</td>\n",
       "      <td>Z305D57Q</td>\n",
       "      <td>4000787030016</td>\n",
       "      <td>1</td>\n",
       "      <td>0</td>\n",
       "      <td>0.0</td>\n",
       "      <td>0.000000e+00</td>\n",
       "      <td>0</td>\n",
       "    </tr>\n",
       "  </tbody>\n",
       "</table>\n",
       "</div>"
      ],
      "text/plain": [
       "           model serial_number  capacity_bytes  failure  SMART_5  SMART_187  \\\n",
       "0    ST4000DM000      Z3040LRE   4000787030016        1        0        2.0   \n",
       "1  ST12000NM0007      ZCH07AT8  12000138625024        1       32        0.0   \n",
       "2  ST12000NM0007      ZCH083DQ  12000138625024        1    28304       71.0   \n",
       "3  ST12000NM0007      ZJV00CZL  12000138625024        1        0        0.0   \n",
       "4    ST4000DM000      S301GQWN   4000787030016        1        8       11.0   \n",
       "5    ST4000DM000      Z305D57Q   4000787030016        1        0        0.0   \n",
       "\n",
       "      SMART_188  SMART_197  \n",
       "0  0.000000e+00        224  \n",
       "1  1.718013e+10          0  \n",
       "2  0.000000e+00          0  \n",
       "3  0.000000e+00          0  \n",
       "4  0.000000e+00         24  \n",
       "5  0.000000e+00          0  "
      ]
     },
     "execution_count": 8,
     "metadata": {},
     "output_type": "execute_result"
    }
   ],
   "source": [
    "failure_stat.reset_index(drop=True, inplace=True)\n",
    "failure_stat"
   ]
  },
  {
   "cell_type": "markdown",
   "metadata": {},
   "source": [
    "Для жестких дисков: ZCH083DQ и Z3040LRE посмотрим статистику не нулевых смартов на 20 дней назад."
   ]
  },
  {
   "cell_type": "code",
   "execution_count": 9,
   "metadata": {},
   "outputs": [],
   "source": [
    "import datetime\n",
    "\n",
    "start_date = datetime.datetime.strptime(\"2018-05-09\", \"%Y-%m-%d\")\n",
    "days_range = 20\n",
    "SN_1 = 'Z3040LRE'\n",
    "SN_2 = 'ZCH083DQ'\n",
    "\n",
    "in_data = {SN_1: ['smart_187_raw', 'smart_197_raw'],\n",
    "           SN_2: ['smart_5_raw', 'smart_187_raw']}\n",
    "out_data = {SN_1: [], SN_2: []}\n",
    "fail_stat = {}\n",
    "\n",
    "current_date = start_date\n",
    "for i in range(days_range):\n",
    "    file_name = \"./data/{}.csv.zip\".format(current_date.strftime(\"%Y-%m-%d\"))\n",
    "    df = pd.read_csv(file_name, compression=\"zip\")    \n",
    "    for serial in in_data:\n",
    "        a = df.loc[df.serial_number == serial, [*in_data[serial]]]\n",
    "        a['date'] = current_date.strftime(\"%m-%d\")\n",
    "        out_data[serial].append(a)\n",
    "    current_date = start_date + datetime.timedelta(days=-i)\n",
    "fail_stat[SN_1] = pd.concat(out_data[SN_1]) \n",
    "fail_stat[SN_2] = pd.concat(out_data[SN_2])"
   ]
  },
  {
   "cell_type": "markdown",
   "metadata": {},
   "source": [
    "Посмотрим историю значений SMART 187 и SMART 197 для диска Z3040LRE. Судя по графикам ниже, проблемы начались достаточно внезапно: 2018-05-03 значение SMART 197 (Current Pending Sector Count) резко пошло вверх, и за пять дней диск вышел из строя."
   ]
  },
  {
   "cell_type": "code",
   "execution_count": 10,
   "metadata": {},
   "outputs": [
    {
     "data": {
      "text/plain": [
       "<matplotlib.legend.Legend at 0x7fca5fa954a8>"
      ]
     },
     "execution_count": 10,
     "metadata": {},
     "output_type": "execute_result"
    },
    {
     "data": {
      "image/png": "[encoded data removed]",
      "text/plain": [
       "<Figure size 1080x576 with 2 Axes>"
      ]
     },
     "metadata": {
      "needs_background": "light"
     },
     "output_type": "display_data"
    }
   ],
   "source": [
    "plt.figure(figsize=(15, 8))\n",
    "col = '#0000ff'\n",
    "\n",
    "x = fail_stat[SN_1]['date']\n",
    "y = fail_stat[SN_1]['smart_187_raw']\n",
    "plt.subplot(2, 1, 1) \n",
    "plt.plot(x[::-1], y[::-1], col)\n",
    "plt.xlabel('Date', fontsize=16)\n",
    "plt.ylabel('Raw SMART value', fontsize=16)\n",
    "plt.legend(['SMART 187 Reported Uncorrectable Errors'], fontsize=16)\n",
    "\n",
    "y = fail_stat[SN_1]['smart_197_raw']\n",
    "plt.subplot(2, 1, 2)\n",
    "plt.plot(x[::-1], y[::-1], col)\n",
    "plt.xlabel('Date', fontsize=16)\n",
    "plt.ylabel('Raw SMART value', fontsize=16)\n",
    "plt.legend(['SMART 197 Current Pending Sector Count'], fontsize=16)"
   ]
  },
  {
   "cell_type": "markdown",
   "metadata": {},
   "source": [
    "Посмотрим историю значений SMART 187 и SMART 5 для диска ZCH083DQ. Судя по графикам ниже, проблемы начались 16-ть дней назад, значение аттрибутов медленно, но непреклонно, шли вверх. Есть выпадение одного дня в статистике (2018-05-03). Можно предположить, что проблемы с диском были замечены и, возможно, его поставили на какие-нибудь тесты, поэтому за этот день он не отображался в статистике центра. В это же время виден скачок смартов; похоже, что предполагаемые тесты значительно ухудшили состояния диска."
   ]
  },
  {
   "cell_type": "code",
   "execution_count": 11,
   "metadata": {},
   "outputs": [
    {
     "data": {
      "text/plain": [
       "<matplotlib.legend.Legend at 0x7fca5fd19470>"
      ]
     },
     "execution_count": 11,
     "metadata": {},
     "output_type": "execute_result"
    },
    {
     "data": {
      "image/png": "[encoded data removed]",
      "text/plain": [
       "<Figure size 1080x720 with 2 Axes>"
      ]
     },
     "metadata": {
      "needs_background": "light"
     },
     "output_type": "display_data"
    }
   ],
   "source": [
    "plt.figure(figsize=(15, 10))\n",
    "\n",
    "x = fail_stat[SN_2]['date']\n",
    "y = fail_stat[SN_2]['smart_187_raw']\n",
    "plt.subplot(2, 1, 1) \n",
    "plt.plot(x[::-1], y[::-1], col)\n",
    "plt.xlabel('Date', fontsize=16)\n",
    "plt.ylabel('Raw SMART value', fontsize=16)\n",
    "plt.legend(['SMART 187 Reported Uncorrectable Errors'], fontsize=16)\n",
    "\n",
    "y = fail_stat[SN_2]['smart_5_raw']\n",
    "plt.subplot(2, 1, 2)\n",
    "plt.plot(x[::-1], y[::-1], col)\n",
    "plt.xlabel('Date', fontsize=16)\n",
    "plt.ylabel('Raw SMART value', fontsize=16)\n",
    "plt.legend(['SMART 5 Reallocated Sectors Count'], fontsize=16)"
   ]
  },
  {
   "cell_type": "markdown",
   "metadata": {},
   "source": [
    "## Посмотрим на статистику производителей дисков в целом"
   ]
  },
  {
   "cell_type": "markdown",
   "metadata": {},
   "source": [
    "Посмотрим сколько различных моделей дисков в дата центрах."
   ]
  },
  {
   "cell_type": "code",
   "execution_count": 12,
   "metadata": {},
   "outputs": [
    {
     "data": {
      "text/html": [
       "<div>\n",
       "<style scoped>\n",
       "    .dataframe tbody tr th:only-of-type {\n",
       "        vertical-align: middle;\n",
       "    }\n",
       "\n",
       "    .dataframe tbody tr th {\n",
       "        vertical-align: top;\n",
       "    }\n",
       "\n",
       "    .dataframe thead th {\n",
       "        text-align: right;\n",
       "    }\n",
       "</style>\n",
       "<table border=\"1\" class=\"dataframe\">\n",
       "  <thead>\n",
       "    <tr style=\"text-align: right;\">\n",
       "      <th></th>\n",
       "      <th>model</th>\n",
       "      <th>capacity_bytes</th>\n",
       "    </tr>\n",
       "  </thead>\n",
       "  <tbody>\n",
       "    <tr>\n",
       "      <th>0</th>\n",
       "      <td>HGST HDS5C4040ALE630</td>\n",
       "      <td>252049582891008</td>\n",
       "    </tr>\n",
       "    <tr>\n",
       "      <th>1</th>\n",
       "      <td>HGST HDS724040ALE640</td>\n",
       "      <td>4000787030016</td>\n",
       "    </tr>\n",
       "    <tr>\n",
       "      <th>2</th>\n",
       "      <td>HGST HMS5C4040ALE640</td>\n",
       "      <td>19135764364566528</td>\n",
       "    </tr>\n",
       "    <tr>\n",
       "      <th>3</th>\n",
       "      <td>HGST HMS5C4040BLE640</td>\n",
       "      <td>61028005355864064</td>\n",
       "    </tr>\n",
       "    <tr>\n",
       "      <th>4</th>\n",
       "      <td>HGST HUH728080ALE600</td>\n",
       "      <td>8361633567006720</td>\n",
       "    </tr>\n",
       "    <tr>\n",
       "      <th>5</th>\n",
       "      <td>HGST HUS726040ALE610</td>\n",
       "      <td>104020462780416</td>\n",
       "    </tr>\n",
       "    <tr>\n",
       "      <th>6</th>\n",
       "      <td>Hitachi HDS5C4040ALE630</td>\n",
       "      <td>80015740600320</td>\n",
       "    </tr>\n",
       "    <tr>\n",
       "      <th>7</th>\n",
       "      <td>Hitachi HDS724040ALE640</td>\n",
       "      <td>8001574060032</td>\n",
       "    </tr>\n",
       "    <tr>\n",
       "      <th>8</th>\n",
       "      <td>ST10000NM0086</td>\n",
       "      <td>12201014245457920</td>\n",
       "    </tr>\n",
       "    <tr>\n",
       "      <th>9</th>\n",
       "      <td>ST1000LM024 HN</td>\n",
       "      <td>1000204886016</td>\n",
       "    </tr>\n",
       "    <tr>\n",
       "      <th>10</th>\n",
       "      <td>ST12000NM0007</td>\n",
       "      <td>230402661600460800</td>\n",
       "    </tr>\n",
       "    <tr>\n",
       "      <th>11</th>\n",
       "      <td>ST250LM004 HN</td>\n",
       "      <td>1500356100096</td>\n",
       "    </tr>\n",
       "    <tr>\n",
       "      <th>12</th>\n",
       "      <td>ST3160316AS</td>\n",
       "      <td>1440376971264</td>\n",
       "    </tr>\n",
       "    <tr>\n",
       "      <th>13</th>\n",
       "      <td>ST3160318AS</td>\n",
       "      <td>320083771392</td>\n",
       "    </tr>\n",
       "    <tr>\n",
       "      <th>14</th>\n",
       "      <td>ST320LT007</td>\n",
       "      <td>2880656400384</td>\n",
       "    </tr>\n",
       "    <tr>\n",
       "      <th>15</th>\n",
       "      <td>ST4000DM000</td>\n",
       "      <td>116995015118757888</td>\n",
       "    </tr>\n",
       "    <tr>\n",
       "      <th>16</th>\n",
       "      <td>ST4000DM005</td>\n",
       "      <td>248048795860992</td>\n",
       "    </tr>\n",
       "    <tr>\n",
       "      <th>17</th>\n",
       "      <td>ST500LM012 HN</td>\n",
       "      <td>315067953070080</td>\n",
       "    </tr>\n",
       "    <tr>\n",
       "      <th>18</th>\n",
       "      <td>ST6000DM001</td>\n",
       "      <td>90017626890240</td>\n",
       "    </tr>\n",
       "    <tr>\n",
       "      <th>19</th>\n",
       "      <td>ST6000DM004</td>\n",
       "      <td>12002350252032</td>\n",
       "    </tr>\n",
       "    <tr>\n",
       "      <th>20</th>\n",
       "      <td>ST6000DX000</td>\n",
       "      <td>11006155181113344</td>\n",
       "    </tr>\n",
       "    <tr>\n",
       "      <th>21</th>\n",
       "      <td>ST8000DM002</td>\n",
       "      <td>79143461828960256</td>\n",
       "    </tr>\n",
       "    <tr>\n",
       "      <th>22</th>\n",
       "      <td>ST8000DM005</td>\n",
       "      <td>40007816110080</td>\n",
       "    </tr>\n",
       "    <tr>\n",
       "      <th>23</th>\n",
       "      <td>ST8000NM0055</td>\n",
       "      <td>115142494764810240</td>\n",
       "    </tr>\n",
       "    <tr>\n",
       "      <th>24</th>\n",
       "      <td>ST9250315AS</td>\n",
       "      <td>7751839850496</td>\n",
       "    </tr>\n",
       "    <tr>\n",
       "      <th>25</th>\n",
       "      <td>ST9320325AS</td>\n",
       "      <td>5441239867392</td>\n",
       "    </tr>\n",
       "    <tr>\n",
       "      <th>26</th>\n",
       "      <td>TOSHIBA HDWE160</td>\n",
       "      <td>18003525378048</td>\n",
       "    </tr>\n",
       "    <tr>\n",
       "      <th>27</th>\n",
       "      <td>TOSHIBA HDWF180</td>\n",
       "      <td>160031264440320</td>\n",
       "    </tr>\n",
       "    <tr>\n",
       "      <th>28</th>\n",
       "      <td>TOSHIBA MD04ABA400V</td>\n",
       "      <td>584114906382336</td>\n",
       "    </tr>\n",
       "    <tr>\n",
       "      <th>29</th>\n",
       "      <td>TOSHIBA MD04ABA500V</td>\n",
       "      <td>225044148510720</td>\n",
       "    </tr>\n",
       "    <tr>\n",
       "      <th>30</th>\n",
       "      <td>TOSHIBA MQ01ABF050</td>\n",
       "      <td>277559863418880</td>\n",
       "    </tr>\n",
       "    <tr>\n",
       "      <th>31</th>\n",
       "      <td>TOSHIBA MQ01ABF050M</td>\n",
       "      <td>123026534055936</td>\n",
       "    </tr>\n",
       "    <tr>\n",
       "      <th>32</th>\n",
       "      <td>WDC WD1600AAJS</td>\n",
       "      <td>5441424113664</td>\n",
       "    </tr>\n",
       "    <tr>\n",
       "      <th>33</th>\n",
       "      <td>WDC WD2500AAJS</td>\n",
       "      <td>250059350016</td>\n",
       "    </tr>\n",
       "    <tr>\n",
       "      <th>34</th>\n",
       "      <td>WDC WD30EFRX</td>\n",
       "      <td>540106736762880</td>\n",
       "    </tr>\n",
       "    <tr>\n",
       "      <th>35</th>\n",
       "      <td>WDC WD3200AAJS</td>\n",
       "      <td>320072933376</td>\n",
       "    </tr>\n",
       "    <tr>\n",
       "      <th>36</th>\n",
       "      <td>WDC WD3200BEKX</td>\n",
       "      <td>320072933376</td>\n",
       "    </tr>\n",
       "    <tr>\n",
       "      <th>37</th>\n",
       "      <td>WDC WD3200LPVX</td>\n",
       "      <td>320072933376</td>\n",
       "    </tr>\n",
       "    <tr>\n",
       "      <th>38</th>\n",
       "      <td>WDC WD40EFRX</td>\n",
       "      <td>184036203380736</td>\n",
       "    </tr>\n",
       "    <tr>\n",
       "      <th>39</th>\n",
       "      <td>WDC WD5000BPKT</td>\n",
       "      <td>4000862896128</td>\n",
       "    </tr>\n",
       "    <tr>\n",
       "      <th>40</th>\n",
       "      <td>WDC WD5000LPCX</td>\n",
       "      <td>28006040272896</td>\n",
       "    </tr>\n",
       "    <tr>\n",
       "      <th>41</th>\n",
       "      <td>WDC WD5000LPVX</td>\n",
       "      <td>147531819294720</td>\n",
       "    </tr>\n",
       "    <tr>\n",
       "      <th>42</th>\n",
       "      <td>WDC WD60EFRX</td>\n",
       "      <td>2622513530068992</td>\n",
       "    </tr>\n",
       "  </tbody>\n",
       "</table>\n",
       "</div>"
      ],
      "text/plain": [
       "                      model      capacity_bytes\n",
       "0      HGST HDS5C4040ALE630     252049582891008\n",
       "1      HGST HDS724040ALE640       4000787030016\n",
       "2      HGST HMS5C4040ALE640   19135764364566528\n",
       "3      HGST HMS5C4040BLE640   61028005355864064\n",
       "4      HGST HUH728080ALE600    8361633567006720\n",
       "5      HGST HUS726040ALE610     104020462780416\n",
       "6   Hitachi HDS5C4040ALE630      80015740600320\n",
       "7   Hitachi HDS724040ALE640       8001574060032\n",
       "8             ST10000NM0086   12201014245457920\n",
       "9            ST1000LM024 HN       1000204886016\n",
       "10            ST12000NM0007  230402661600460800\n",
       "11            ST250LM004 HN       1500356100096\n",
       "12              ST3160316AS       1440376971264\n",
       "13              ST3160318AS        320083771392\n",
       "14               ST320LT007       2880656400384\n",
       "15              ST4000DM000  116995015118757888\n",
       "16              ST4000DM005     248048795860992\n",
       "17            ST500LM012 HN     315067953070080\n",
       "18              ST6000DM001      90017626890240\n",
       "19              ST6000DM004      12002350252032\n",
       "20              ST6000DX000   11006155181113344\n",
       "21              ST8000DM002   79143461828960256\n",
       "22              ST8000DM005      40007816110080\n",
       "23             ST8000NM0055  115142494764810240\n",
       "24              ST9250315AS       7751839850496\n",
       "25              ST9320325AS       5441239867392\n",
       "26          TOSHIBA HDWE160      18003525378048\n",
       "27          TOSHIBA HDWF180     160031264440320\n",
       "28      TOSHIBA MD04ABA400V     584114906382336\n",
       "29      TOSHIBA MD04ABA500V     225044148510720\n",
       "30       TOSHIBA MQ01ABF050     277559863418880\n",
       "31      TOSHIBA MQ01ABF050M     123026534055936\n",
       "32           WDC WD1600AAJS       5441424113664\n",
       "33           WDC WD2500AAJS        250059350016\n",
       "34             WDC WD30EFRX     540106736762880\n",
       "35           WDC WD3200AAJS        320072933376\n",
       "36           WDC WD3200BEKX        320072933376\n",
       "37           WDC WD3200LPVX        320072933376\n",
       "38             WDC WD40EFRX     184036203380736\n",
       "39           WDC WD5000BPKT       4000862896128\n",
       "40           WDC WD5000LPCX      28006040272896\n",
       "41           WDC WD5000LPVX     147531819294720\n",
       "42             WDC WD60EFRX    2622513530068992"
      ]
     },
     "execution_count": 12,
     "metadata": {},
     "output_type": "execute_result"
    }
   ],
   "source": [
    "models_stat = base_stat.groupby('model').aggregate({'capacity_bytes': 'sum'}).reset_index()\n",
    "models_stat"
   ]
  },
  {
   "cell_type": "markdown",
   "metadata": {},
   "source": [
    "Видно, что есть много моделей дисков одного производителя, объединим их по производителям. Для этого добавим колонку manufacturer, информацию возьмем из колонки model, и найдем общий объем дисков в байтах для каждого производителя."
   ]
  },
  {
   "cell_type": "code",
   "execution_count": 13,
   "metadata": {},
   "outputs": [
    {
     "data": {
      "text/html": [
       "<div>\n",
       "<style scoped>\n",
       "    .dataframe tbody tr th:only-of-type {\n",
       "        vertical-align: middle;\n",
       "    }\n",
       "\n",
       "    .dataframe tbody tr th {\n",
       "        vertical-align: top;\n",
       "    }\n",
       "\n",
       "    .dataframe thead th {\n",
       "        text-align: right;\n",
       "    }\n",
       "</style>\n",
       "<table border=\"1\" class=\"dataframe\">\n",
       "  <thead>\n",
       "    <tr style=\"text-align: right;\">\n",
       "      <th></th>\n",
       "      <th>manufacturer</th>\n",
       "      <th>capacity_bytes</th>\n",
       "    </tr>\n",
       "  </thead>\n",
       "  <tbody>\n",
       "    <tr>\n",
       "      <th>0</th>\n",
       "      <td>HGST</td>\n",
       "      <td>88885474120138752</td>\n",
       "    </tr>\n",
       "    <tr>\n",
       "      <th>1</th>\n",
       "      <td>Hitachi</td>\n",
       "      <td>88017314660352</td>\n",
       "    </tr>\n",
       "    <tr>\n",
       "      <th>2</th>\n",
       "      <td>ST</td>\n",
       "      <td>565616282039590912</td>\n",
       "    </tr>\n",
       "    <tr>\n",
       "      <th>3</th>\n",
       "      <td>TOSHIBA</td>\n",
       "      <td>1387780242186240</td>\n",
       "    </tr>\n",
       "    <tr>\n",
       "      <th>4</th>\n",
       "      <td>WDC</td>\n",
       "      <td>3532846894940160</td>\n",
       "    </tr>\n",
       "  </tbody>\n",
       "</table>\n",
       "</div>"
      ],
      "text/plain": [
       "  manufacturer      capacity_bytes\n",
       "0         HGST   88885474120138752\n",
       "1      Hitachi      88017314660352\n",
       "2           ST  565616282039590912\n",
       "3      TOSHIBA    1387780242186240\n",
       "4          WDC    3532846894940160"
      ]
     },
     "execution_count": 13,
     "metadata": {},
     "output_type": "execute_result"
    }
   ],
   "source": [
    "\n",
    "base_stat['manufacturer'] = base_stat['model']\n",
    "company = {'^ST.+': 'ST',\n",
    "           '^WDC WD.+': 'WDC',\n",
    "           '^TOSHIBA .+': 'TOSHIBA',\n",
    "           '^HGST .+': 'HGST', \n",
    "           '^Hitachi .+': 'Hitachi'}\n",
    "for reg_exp, company_name in company.items():\n",
    "    base_stat.replace({'manufacturer' :reg_exp}, {'manufacturer' :company_name}, regex=True, inplace=True)\n",
    "    \n",
    "mfg_stat_capacity = base_stat.groupby('manufacturer').aggregate({'capacity_bytes': 'sum'}).reset_index()\n",
    "mfg_stat_capacity"
   ]
  },
  {
   "cell_type": "markdown",
   "metadata": {},
   "source": [
    "Посмотрим на долю каждого производителя в суммарном объеме всего центра в процентном соотношении."
   ]
  },
  {
   "cell_type": "code",
   "execution_count": 14,
   "metadata": {},
   "outputs": [
    {
     "data": {
      "text/html": [
       "<div>\n",
       "<style scoped>\n",
       "    .dataframe tbody tr th:only-of-type {\n",
       "        vertical-align: middle;\n",
       "    }\n",
       "\n",
       "    .dataframe tbody tr th {\n",
       "        vertical-align: top;\n",
       "    }\n",
       "\n",
       "    .dataframe thead th {\n",
       "        text-align: right;\n",
       "    }\n",
       "</style>\n",
       "<table border=\"1\" class=\"dataframe\">\n",
       "  <thead>\n",
       "    <tr style=\"text-align: right;\">\n",
       "      <th></th>\n",
       "      <th>manufacturer</th>\n",
       "      <th>capacity_bytes</th>\n",
       "    </tr>\n",
       "  </thead>\n",
       "  <tbody>\n",
       "    <tr>\n",
       "      <th>0</th>\n",
       "      <td>ST</td>\n",
       "      <td>85.763057</td>\n",
       "    </tr>\n",
       "    <tr>\n",
       "      <th>1</th>\n",
       "      <td>HGST</td>\n",
       "      <td>13.477494</td>\n",
       "    </tr>\n",
       "    <tr>\n",
       "      <th>2</th>\n",
       "      <td>WDC</td>\n",
       "      <td>0.535677</td>\n",
       "    </tr>\n",
       "    <tr>\n",
       "      <th>3</th>\n",
       "      <td>TOSHIBA</td>\n",
       "      <td>0.210426</td>\n",
       "    </tr>\n",
       "    <tr>\n",
       "      <th>4</th>\n",
       "      <td>Hitachi</td>\n",
       "      <td>0.013346</td>\n",
       "    </tr>\n",
       "  </tbody>\n",
       "</table>\n",
       "</div>"
      ],
      "text/plain": [
       "  manufacturer  capacity_bytes\n",
       "0           ST       85.763057\n",
       "1         HGST       13.477494\n",
       "2          WDC        0.535677\n",
       "3      TOSHIBA        0.210426\n",
       "4      Hitachi        0.013346"
      ]
     },
     "execution_count": 14,
     "metadata": {},
     "output_type": "execute_result"
    }
   ],
   "source": [
    "mfg_stat_capacity.sort_values(by=['capacity_bytes'], ascending=False, inplace=True)\n",
    "total_catacity = mfg_stat_capacity.sum()[1]\n",
    "mfg_stat_capacity.reset_index(drop=True, inplace=True)\n",
    "mfg_stat_capacity['capacity_bytes'] = mfg_stat_capacity['capacity_bytes'] / total_catacity * 100.\n",
    "mfg_stat_capacity"
   ]
  },
  {
   "cell_type": "markdown",
   "metadata": {},
   "source": [
    "Отобразим это на красивом графике. "
   ]
  },
  {
   "cell_type": "code",
   "execution_count": 15,
   "metadata": {},
   "outputs": [
    {
     "data": {
      "text/plain": [
       "Text(0.5, 0, '')"
      ]
     },
     "execution_count": 15,
     "metadata": {},
     "output_type": "execute_result"
    },
    {
     "data": {
      "image/png": "[encoded data removed]",
      "text/plain": [
       "<Figure size 1080x576 with 1 Axes>"
      ]
     },
     "metadata": {
      "needs_background": "light"
     },
     "output_type": "display_data"
    }
   ],
   "source": [
    "plt.figure(figsize=(15, 8))\n",
    "\n",
    "plt.title('Manufacturers', fontsize=20)\n",
    "x = mfg_stat_capacity['manufacturer']\n",
    "y = mfg_stat_capacity['capacity_bytes']\n",
    "sns.barplot(x=x, y=y)\n",
    "plt.ylabel('Percent of total data center capacity, %', fontsize=16)\n",
    "plt.xlabel('', fontsize=16)"
   ]
  },
  {
   "cell_type": "markdown",
   "metadata": {},
   "source": [
    "Или не очень красивом графике ... Но видно, что преимущественная доля за Seagate, что не удивительно. \n",
    "На pie chart, если приcмотреться можно даже увидеть долю Western Digital."
   ]
  },
  {
   "cell_type": "code",
   "execution_count": 16,
   "metadata": {},
   "outputs": [
    {
     "data": {
      "image/png": "[encoded data removed]",
      "text/plain": [
       "<Figure size 1080x576 with 1 Axes>"
      ]
     },
     "metadata": {},
     "output_type": "display_data"
    }
   ],
   "source": [
    "plt.figure(figsize=(15, 8))\n",
    "\n",
    "plt.title('Manufacturers', fontsize=20)\n",
    "sums = mfg_stat_capacity.loc[:2,:].capacity_bytes.groupby(mfg_stat_capacity.manufacturer).sum()\n",
    "plt.axis('equal');\n",
    "plt.pie(sums, labels=sums.index);\n",
    "plt.show()"
   ]
  },
  {
   "cell_type": "markdown",
   "metadata": {},
   "source": [
    "Можно посмотреть распределение производителей по номенклатуре емкостей жестких дисков."
   ]
  },
  {
   "cell_type": "code",
   "execution_count": 17,
   "metadata": {},
   "outputs": [
    {
     "data": {
      "text/plain": [
       "array([  160041885696,   250059350016,   320072933376,   500107862016,\n",
       "        1000204886016,  3000592982016,  4000787030016,  5000981078016,\n",
       "        6001175126016,  8001563222016, 10000831348736, 12000138625024])"
      ]
     },
     "execution_count": 17,
     "metadata": {},
     "output_type": "execute_result"
    }
   ],
   "source": [
    "capacity = base_stat['capacity_bytes'].unique()\n",
    "company = base_stat['manufacturer'].unique()\n",
    "capacity.sort()\n",
    "capacity"
   ]
  },
  {
   "cell_type": "code",
   "execution_count": 18,
   "metadata": {},
   "outputs": [
    {
     "data": {
      "text/html": [
       "<div>\n",
       "<style scoped>\n",
       "    .dataframe tbody tr th:only-of-type {\n",
       "        vertical-align: middle;\n",
       "    }\n",
       "\n",
       "    .dataframe tbody tr th {\n",
       "        vertical-align: top;\n",
       "    }\n",
       "\n",
       "    .dataframe thead th {\n",
       "        text-align: right;\n",
       "    }\n",
       "</style>\n",
       "<table border=\"1\" class=\"dataframe\">\n",
       "  <thead>\n",
       "    <tr style=\"text-align: right;\">\n",
       "      <th></th>\n",
       "      <th>capacity_bytes</th>\n",
       "      <th>manufacturer</th>\n",
       "      <th>serial_number</th>\n",
       "    </tr>\n",
       "  </thead>\n",
       "  <tbody>\n",
       "    <tr>\n",
       "      <th>0</th>\n",
       "      <td>160041885696</td>\n",
       "      <td>ST</td>\n",
       "      <td>11</td>\n",
       "    </tr>\n",
       "    <tr>\n",
       "      <th>1</th>\n",
       "      <td>160041885696</td>\n",
       "      <td>WDC</td>\n",
       "      <td>34</td>\n",
       "    </tr>\n",
       "    <tr>\n",
       "      <th>2</th>\n",
       "      <td>250059350016</td>\n",
       "      <td>ST</td>\n",
       "      <td>37</td>\n",
       "    </tr>\n",
       "    <tr>\n",
       "      <th>3</th>\n",
       "      <td>250059350016</td>\n",
       "      <td>WDC</td>\n",
       "      <td>1</td>\n",
       "    </tr>\n",
       "    <tr>\n",
       "      <th>4</th>\n",
       "      <td>320072933376</td>\n",
       "      <td>ST</td>\n",
       "      <td>26</td>\n",
       "    </tr>\n",
       "    <tr>\n",
       "      <th>5</th>\n",
       "      <td>320072933376</td>\n",
       "      <td>WDC</td>\n",
       "      <td>3</td>\n",
       "    </tr>\n",
       "    <tr>\n",
       "      <th>6</th>\n",
       "      <td>500107862016</td>\n",
       "      <td>ST</td>\n",
       "      <td>630</td>\n",
       "    </tr>\n",
       "    <tr>\n",
       "      <th>7</th>\n",
       "      <td>500107862016</td>\n",
       "      <td>TOSHIBA</td>\n",
       "      <td>801</td>\n",
       "    </tr>\n",
       "    <tr>\n",
       "      <th>8</th>\n",
       "      <td>500107862016</td>\n",
       "      <td>WDC</td>\n",
       "      <td>359</td>\n",
       "    </tr>\n",
       "    <tr>\n",
       "      <th>9</th>\n",
       "      <td>1000204886016</td>\n",
       "      <td>ST</td>\n",
       "      <td>1</td>\n",
       "    </tr>\n",
       "    <tr>\n",
       "      <th>10</th>\n",
       "      <td>3000592982016</td>\n",
       "      <td>WDC</td>\n",
       "      <td>180</td>\n",
       "    </tr>\n",
       "    <tr>\n",
       "      <th>11</th>\n",
       "      <td>4000787030016</td>\n",
       "      <td>HGST</td>\n",
       "      <td>20127</td>\n",
       "    </tr>\n",
       "    <tr>\n",
       "      <th>12</th>\n",
       "      <td>4000787030016</td>\n",
       "      <td>Hitachi</td>\n",
       "      <td>22</td>\n",
       "    </tr>\n",
       "    <tr>\n",
       "      <th>13</th>\n",
       "      <td>4000787030016</td>\n",
       "      <td>ST</td>\n",
       "      <td>29305</td>\n",
       "    </tr>\n",
       "    <tr>\n",
       "      <th>14</th>\n",
       "      <td>4000787030016</td>\n",
       "      <td>TOSHIBA</td>\n",
       "      <td>146</td>\n",
       "    </tr>\n",
       "    <tr>\n",
       "      <th>15</th>\n",
       "      <td>4000787030016</td>\n",
       "      <td>WDC</td>\n",
       "      <td>46</td>\n",
       "    </tr>\n",
       "    <tr>\n",
       "      <th>16</th>\n",
       "      <td>5000981078016</td>\n",
       "      <td>TOSHIBA</td>\n",
       "      <td>45</td>\n",
       "    </tr>\n",
       "    <tr>\n",
       "      <th>17</th>\n",
       "      <td>6001175126016</td>\n",
       "      <td>ST</td>\n",
       "      <td>1851</td>\n",
       "    </tr>\n",
       "    <tr>\n",
       "      <th>18</th>\n",
       "      <td>6001175126016</td>\n",
       "      <td>TOSHIBA</td>\n",
       "      <td>3</td>\n",
       "    </tr>\n",
       "    <tr>\n",
       "      <th>19</th>\n",
       "      <td>6001175126016</td>\n",
       "      <td>WDC</td>\n",
       "      <td>437</td>\n",
       "    </tr>\n",
       "    <tr>\n",
       "      <th>20</th>\n",
       "      <td>8001563222016</td>\n",
       "      <td>HGST</td>\n",
       "      <td>1045</td>\n",
       "    </tr>\n",
       "    <tr>\n",
       "      <th>21</th>\n",
       "      <td>8001563222016</td>\n",
       "      <td>ST</td>\n",
       "      <td>24286</td>\n",
       "    </tr>\n",
       "    <tr>\n",
       "      <th>22</th>\n",
       "      <td>8001563222016</td>\n",
       "      <td>TOSHIBA</td>\n",
       "      <td>20</td>\n",
       "    </tr>\n",
       "    <tr>\n",
       "      <th>23</th>\n",
       "      <td>10000831348736</td>\n",
       "      <td>ST</td>\n",
       "      <td>1220</td>\n",
       "    </tr>\n",
       "    <tr>\n",
       "      <th>24</th>\n",
       "      <td>12000138625024</td>\n",
       "      <td>ST</td>\n",
       "      <td>19200</td>\n",
       "    </tr>\n",
       "  </tbody>\n",
       "</table>\n",
       "</div>"
      ],
      "text/plain": [
       "    capacity_bytes manufacturer  serial_number\n",
       "0     160041885696           ST             11\n",
       "1     160041885696          WDC             34\n",
       "2     250059350016           ST             37\n",
       "3     250059350016          WDC              1\n",
       "4     320072933376           ST             26\n",
       "5     320072933376          WDC              3\n",
       "6     500107862016           ST            630\n",
       "7     500107862016      TOSHIBA            801\n",
       "8     500107862016          WDC            359\n",
       "9    1000204886016           ST              1\n",
       "10   3000592982016          WDC            180\n",
       "11   4000787030016         HGST          20127\n",
       "12   4000787030016      Hitachi             22\n",
       "13   4000787030016           ST          29305\n",
       "14   4000787030016      TOSHIBA            146\n",
       "15   4000787030016          WDC             46\n",
       "16   5000981078016      TOSHIBA             45\n",
       "17   6001175126016           ST           1851\n",
       "18   6001175126016      TOSHIBA              3\n",
       "19   6001175126016          WDC            437\n",
       "20   8001563222016         HGST           1045\n",
       "21   8001563222016           ST          24286\n",
       "22   8001563222016      TOSHIBA             20\n",
       "23  10000831348736           ST           1220\n",
       "24  12000138625024           ST          19200"
      ]
     },
     "execution_count": 18,
     "metadata": {},
     "output_type": "execute_result"
    }
   ],
   "source": [
    "enum_capacity_by_company = base_stat.groupby(['capacity_bytes', 'manufacturer']).aggregate({'serial_number': 'count'}).reset_index()\n",
    "enum_capacity_by_company"
   ]
  },
  {
   "cell_type": "markdown",
   "metadata": {},
   "source": [
    "Найдем долю в процентах для каждого из производителей жестких дисков по каждой из позиции в номенклатуре дисков по их емкости."
   ]
  },
  {
   "cell_type": "code",
   "execution_count": 19,
   "metadata": {},
   "outputs": [
    {
     "data": {
      "text/html": [
       "<div>\n",
       "<style scoped>\n",
       "    .dataframe tbody tr th:only-of-type {\n",
       "        vertical-align: middle;\n",
       "    }\n",
       "\n",
       "    .dataframe tbody tr th {\n",
       "        vertical-align: top;\n",
       "    }\n",
       "\n",
       "    .dataframe thead th {\n",
       "        text-align: right;\n",
       "    }\n",
       "</style>\n",
       "<table border=\"1\" class=\"dataframe\">\n",
       "  <thead>\n",
       "    <tr style=\"text-align: right;\">\n",
       "      <th></th>\n",
       "      <th>capacity</th>\n",
       "      <th>ST</th>\n",
       "      <th>HGST</th>\n",
       "      <th>TOSHIBA</th>\n",
       "      <th>WDC</th>\n",
       "      <th>Hitachi</th>\n",
       "    </tr>\n",
       "  </thead>\n",
       "  <tbody>\n",
       "    <tr>\n",
       "      <th>0</th>\n",
       "      <td>160041885696</td>\n",
       "      <td>24.444444</td>\n",
       "      <td>0.000000</td>\n",
       "      <td>0.000000</td>\n",
       "      <td>75.555556</td>\n",
       "      <td>0.000000</td>\n",
       "    </tr>\n",
       "    <tr>\n",
       "      <th>1</th>\n",
       "      <td>250059350016</td>\n",
       "      <td>97.368421</td>\n",
       "      <td>0.000000</td>\n",
       "      <td>0.000000</td>\n",
       "      <td>2.631579</td>\n",
       "      <td>0.000000</td>\n",
       "    </tr>\n",
       "    <tr>\n",
       "      <th>2</th>\n",
       "      <td>320072933376</td>\n",
       "      <td>89.655172</td>\n",
       "      <td>0.000000</td>\n",
       "      <td>0.000000</td>\n",
       "      <td>10.344828</td>\n",
       "      <td>0.000000</td>\n",
       "    </tr>\n",
       "    <tr>\n",
       "      <th>3</th>\n",
       "      <td>500107862016</td>\n",
       "      <td>35.195531</td>\n",
       "      <td>0.000000</td>\n",
       "      <td>44.748603</td>\n",
       "      <td>20.055866</td>\n",
       "      <td>0.000000</td>\n",
       "    </tr>\n",
       "    <tr>\n",
       "      <th>4</th>\n",
       "      <td>1000204886016</td>\n",
       "      <td>100.000000</td>\n",
       "      <td>0.000000</td>\n",
       "      <td>0.000000</td>\n",
       "      <td>0.000000</td>\n",
       "      <td>0.000000</td>\n",
       "    </tr>\n",
       "    <tr>\n",
       "      <th>5</th>\n",
       "      <td>3000592982016</td>\n",
       "      <td>0.000000</td>\n",
       "      <td>0.000000</td>\n",
       "      <td>0.000000</td>\n",
       "      <td>100.000000</td>\n",
       "      <td>0.000000</td>\n",
       "    </tr>\n",
       "    <tr>\n",
       "      <th>6</th>\n",
       "      <td>4000787030016</td>\n",
       "      <td>59.027918</td>\n",
       "      <td>40.541030</td>\n",
       "      <td>0.294082</td>\n",
       "      <td>0.092656</td>\n",
       "      <td>0.044314</td>\n",
       "    </tr>\n",
       "    <tr>\n",
       "      <th>7</th>\n",
       "      <td>5000981078016</td>\n",
       "      <td>0.000000</td>\n",
       "      <td>0.000000</td>\n",
       "      <td>100.000000</td>\n",
       "      <td>0.000000</td>\n",
       "      <td>0.000000</td>\n",
       "    </tr>\n",
       "    <tr>\n",
       "      <th>8</th>\n",
       "      <td>6001175126016</td>\n",
       "      <td>80.794413</td>\n",
       "      <td>0.000000</td>\n",
       "      <td>0.130947</td>\n",
       "      <td>19.074640</td>\n",
       "      <td>0.000000</td>\n",
       "    </tr>\n",
       "    <tr>\n",
       "      <th>9</th>\n",
       "      <td>8001563222016</td>\n",
       "      <td>95.798982</td>\n",
       "      <td>4.122125</td>\n",
       "      <td>0.078892</td>\n",
       "      <td>0.000000</td>\n",
       "      <td>0.000000</td>\n",
       "    </tr>\n",
       "    <tr>\n",
       "      <th>10</th>\n",
       "      <td>10000831348736</td>\n",
       "      <td>100.000000</td>\n",
       "      <td>0.000000</td>\n",
       "      <td>0.000000</td>\n",
       "      <td>0.000000</td>\n",
       "      <td>0.000000</td>\n",
       "    </tr>\n",
       "    <tr>\n",
       "      <th>11</th>\n",
       "      <td>12000138625024</td>\n",
       "      <td>100.000000</td>\n",
       "      <td>0.000000</td>\n",
       "      <td>0.000000</td>\n",
       "      <td>0.000000</td>\n",
       "      <td>0.000000</td>\n",
       "    </tr>\n",
       "  </tbody>\n",
       "</table>\n",
       "</div>"
      ],
      "text/plain": [
       "          capacity          ST       HGST     TOSHIBA         WDC   Hitachi\n",
       "0     160041885696   24.444444   0.000000    0.000000   75.555556  0.000000\n",
       "1     250059350016   97.368421   0.000000    0.000000    2.631579  0.000000\n",
       "2     320072933376   89.655172   0.000000    0.000000   10.344828  0.000000\n",
       "3     500107862016   35.195531   0.000000   44.748603   20.055866  0.000000\n",
       "4    1000204886016  100.000000   0.000000    0.000000    0.000000  0.000000\n",
       "5    3000592982016    0.000000   0.000000    0.000000  100.000000  0.000000\n",
       "6    4000787030016   59.027918  40.541030    0.294082    0.092656  0.044314\n",
       "7    5000981078016    0.000000   0.000000  100.000000    0.000000  0.000000\n",
       "8    6001175126016   80.794413   0.000000    0.130947   19.074640  0.000000\n",
       "9    8001563222016   95.798982   4.122125    0.078892    0.000000  0.000000\n",
       "10  10000831348736  100.000000   0.000000    0.000000    0.000000  0.000000\n",
       "11  12000138625024  100.000000   0.000000    0.000000    0.000000  0.000000"
      ]
     },
     "execution_count": 19,
     "metadata": {},
     "output_type": "execute_result"
    }
   ],
   "source": [
    "enum_stat = []\n",
    "for cap in capacity:\n",
    "    stat_by_capacity = enum_capacity_by_company.loc[enum_capacity_by_company.capacity_bytes == cap, ['serial_number', 'manufacturer']]\n",
    "    total = stat_by_capacity['serial_number'].sum()\n",
    "    enum_stat_item = [cap]\n",
    "    for comp in company:\n",
    "        by_comp = stat_by_capacity.loc[stat_by_capacity.manufacturer == comp, ['serial_number']].sum()[0]\n",
    "        enum_stat_item.append(by_comp / total * 100.)\n",
    "    enum_stat.append(enum_stat_item)\n",
    "df_enum_stat = pd.DataFrame(enum_stat, columns=['capacity', *company])\n",
    "df_enum_stat"
   ]
  },
  {
   "cell_type": "markdown",
   "metadata": {},
   "source": [
    "Посмотрим на график распределения для производителя ST, как наиболее широко представленного в рамках данной номенклатуры дисков."
   ]
  },
  {
   "cell_type": "code",
   "execution_count": 20,
   "metadata": {},
   "outputs": [
    {
     "data": {
      "text/plain": [
       "Text(0.5, 1.0, 'ST manufacturer')"
      ]
     },
     "execution_count": 20,
     "metadata": {},
     "output_type": "execute_result"
    },
    {
     "data": {
      "image/png": "[encoded data removed]",
      "text/plain": [
       "<Figure size 1440x576 with 1 Axes>"
      ]
     },
     "metadata": {
      "needs_background": "light"
     },
     "output_type": "display_data"
    }
   ],
   "source": [
    "plt.figure(figsize=(20, 8))\n",
    "\n",
    "x = df_enum_stat['capacity'] / 1024./ 1024. // 1024.\n",
    "y = df_enum_stat['ST']\n",
    "sns.barplot(x=x, y=y)\n",
    "plt.ylabel('Percent of the total amount disks the given drive size, %', fontsize=16)\n",
    "plt.xlabel('Drive size, GB', fontsize=16)\n",
    "plt.title('ST manufacturer', fontsize=20)"
   ]
  },
  {
   "cell_type": "markdown",
   "metadata": {},
   "source": [
    "The End !"
   ]
  }
 ],
 "metadata": {
  "kernelspec": {
   "display_name": "Python 3",
   "language": "python",
   "name": "python3"
  },
  "language_info": {
   "codemirror_mode": {
    "name": "ipython",
    "version": 3
   },
   "file_extension": ".py",
   "mimetype": "text/x-python",
   "name": "python",
   "nbconvert_exporter": "python",
   "pygments_lexer": "ipython3",
   "version": "3.5.2"
  }
 },
 "nbformat": 4,
 "nbformat_minor": 2
}
